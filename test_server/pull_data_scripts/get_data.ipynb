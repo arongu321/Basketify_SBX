{
 "cells": [
  {
   "cell_type": "code",
   "execution_count": 1,
   "id": "f3d67256-6b1b-45de-bc9e-1b44fc87c5c6",
   "metadata": {},
   "outputs": [],
   "source": [
    "from nba_api.stats.endpoints import leaguegamefinder, commonplayerinfo, teamdetails\n",
    "from nba_api.stats.static import players, teams\n",
    "import pandas as pd\n",
    "import json\n",
    "from time import sleep"
   ]
  },
  {
   "cell_type": "code",
   "execution_count": 2,
   "id": "7bc567c6-0297-44a2-b9d4-d0676dab2f21",
   "metadata": {},
   "outputs": [],
   "source": [
    "from datetime import datetime\n",
    "\n",
    "def is_valid_game(game):\n",
    "    # --- Filter by season ---\n",
    "    if str(game['SEASON_ID']).startswith(\"1\"):\n",
    "        return False\n",
    "    \n",
    "    # --- Filter by date ---\n",
    "    date_str = game['GAME_DATE']  # e.g., '2020-07-15'\n",
    "    date_obj = datetime.strptime(date_str, \"%Y-%m-%d\")\n",
    "    month = date_obj.month\n",
    "    year = date_obj.year\n",
    "\n",
    "    # Allowed bubble months & COVID special case\n",
    "    allowed_special_cases = [\n",
    "        (7, 2020),\n",
    "        (8, 2020),\n",
    "        (9, 2020),\n",
    "        (10, 2020),\n",
    "        (7, 2021)\n",
    "    ]\n",
    "\n",
    "    if (month in [7,8,9] and (month, year) not in allowed_special_cases):\n",
    "        return False\n",
    "    \n",
    "    return True\n"
   ]
  },
  {
   "cell_type": "code",
   "execution_count": null,
   "id": "8d3e6aab-0953-494e-b1c1-cd489bbb8f06",
   "metadata": {},
   "outputs": [],
   "source": [
    "players_json = {}\n",
    "\n",
    "all_players = players.get_players()\n",
    "\n",
    "for player in all_players:\n",
    "    player_info = None\n",
    "    game_finder = None\n",
    "    player_name = player['full_name']\n",
    "    player_id = player['id']\n",
    "\n",
    "    if int(player_id) == 1626122:\n",
    "        print(f\"Skipping {player_name}, {player_id}\")\n",
    "        continue\n",
    "    \n",
    "    while player_info is None:\n",
    "        try:\n",
    "            player_info = commonplayerinfo.CommonPlayerInfo(player_id=player_id, timeout=5)\n",
    "            player_info_df = player_info.get_data_frames()[0]\n",
    "            player_profile = player_info_df.to_dict(orient='records')[0]\n",
    "        except:\n",
    "            print(f\"Skipped player info: {player_name}, {player_id}\")\n",
    "            sleep(2)\n",
    "    while game_finder is None:\n",
    "        try:\n",
    "            game_finder = leaguegamefinder.LeagueGameFinder(player_id_nullable=player_id, timeout=5)\n",
    "            games_df = game_finder.get_data_frames()[0]\n",
    "        except:\n",
    "            print(f\"Skipped game logs: {player_name}, {player_id}\")\n",
    "            sleep(2)\n",
    "\n",
    "    games = []\n",
    "\n",
    "    for _, game in games_df.iterrows():\n",
    "        if not is_valid_game(game):\n",
    "            continue\n",
    "        games.append(game.to_dict())\n",
    "\n",
    "    players_json[player_id] = {\n",
    "        \"profile\": player_profile,\n",
    "        \"games\": games\n",
    "    }\n",
    "\n",
    "    print(f\"Finished player: {player_name}, {player_id}\")"
   ]
  },
  {
   "cell_type": "code",
   "execution_count": 4,
   "id": "096da29f-2840-4efc-9213-9a45efe04640",
   "metadata": {},
   "outputs": [],
   "source": [
    "# for player in all_players:\n",
    "#     player_info = None\n",
    "#     game_finder = None\n",
    "#     player_name = player['full_name']\n",
    "#     player_id = player['id']\n",
    "#     if player_id in players_json or int(player_id) == 1626122:\n",
    "#         print(f\"Skipping {player_name}, {player_id}\")\n",
    "#         continue\n",
    "    \n",
    "#     while player_info is None:\n",
    "#         try:\n",
    "#             player_info = commonplayerinfo.CommonPlayerInfo(player_id=player_id, timeout=5)\n",
    "#             player_info_df = player_info.get_data_frames()[0]\n",
    "#             player_profile = player_info_df.to_dict(orient='records')[0]\n",
    "#         except:\n",
    "#             print(f\"Skipped player info: {player_name}, {player_id}\")\n",
    "#             sleep(2)\n",
    "#     while game_finder is None:\n",
    "#         try:\n",
    "#             game_finder = leaguegamefinder.LeagueGameFinder(player_id_nullable=player_id, timeout=5)\n",
    "#             games_df = game_finder.get_data_frames()[0]\n",
    "#         except:\n",
    "#             print(f\"Skipped game logs: {player_name}, {player_id}\")\n",
    "#             sleep(2)\n",
    "\n",
    "#     games = []\n",
    "\n",
    "#     for _, game in games_df.iterrows():\n",
    "#         if not is_valid_game(game):\n",
    "#             continue\n",
    "#         games.append(game.to_dict())\n",
    "\n",
    "#     players_json[player_id] = {\n",
    "#         \"profile\": player_profile,\n",
    "#         \"games\": games\n",
    "#     }\n",
    "\n",
    "#     print(f\"Finished player: {player_name}, {player_id}\")\n",
    "#     sleep(1)"
   ]
  },
  {
   "cell_type": "code",
   "execution_count": 5,
   "id": "8ea0e9ee-1fb3-4663-a1ea-8b27591f71cc",
   "metadata": {},
   "outputs": [
    {
     "name": "stdout",
     "output_type": "stream",
     "text": [
      "Finished team: Atlanta Hawks\n",
      "Finished team: Boston Celtics\n",
      "Finished team: Cleveland Cavaliers\n",
      "Finished team: New Orleans Pelicans\n",
      "Finished team: Chicago Bulls\n",
      "Finished team: Dallas Mavericks\n",
      "Finished team: Denver Nuggets\n",
      "Finished team: Golden State Warriors\n",
      "Finished team: Houston Rockets\n",
      "Finished team: Los Angeles Clippers\n",
      "Finished team: Los Angeles Lakers\n",
      "Finished team: Miami Heat\n",
      "Finished team: Milwaukee Bucks\n",
      "Finished team: Minnesota Timberwolves\n",
      "Finished team: Brooklyn Nets\n",
      "Finished team: New York Knicks\n",
      "Finished team: Orlando Magic\n",
      "Finished team: Indiana Pacers\n",
      "Finished team: Philadelphia 76ers\n",
      "Finished team: Phoenix Suns\n",
      "Finished team: Portland Trail Blazers\n",
      "Finished team: Sacramento Kings\n",
      "Finished team: San Antonio Spurs\n",
      "Finished team: Oklahoma City Thunder\n",
      "Finished team: Toronto Raptors\n",
      "Finished team: Utah Jazz\n",
      "Finished team: Memphis Grizzlies\n",
      "Finished team: Washington Wizards\n",
      "Finished team: Detroit Pistons\n",
      "Finished team: Charlotte Hornets\n"
     ]
    }
   ],
   "source": [
    "teams_json = {}\n",
    "\n",
    "all_teams = teams.get_teams()\n",
    "\n",
    "for team in all_teams:\n",
    "    team_name = team['full_name']\n",
    "    team_id = team['id']\n",
    "\n",
    "    try:\n",
    "        team_info = teamdetails.TeamDetails(team_id=team_id, timeout=3)\n",
    "        team_info_df = team_info.get_data_frames()[0]\n",
    "        team_profile = team_info_df.to_dict(orient='records')[0]\n",
    "    except:\n",
    "        print(f\"Skipped team info: {team_name}\")\n",
    "        continue\n",
    "\n",
    "    try:\n",
    "        game_finder = leaguegamefinder.LeagueGameFinder(team_id_nullable=team_id, timeout=3)\n",
    "        games_df = game_finder.get_data_frames()[0]\n",
    "    except:\n",
    "        print(f\"Skipped game logs: {team_name}\")\n",
    "        continue\n",
    "\n",
    "    games = []\n",
    "\n",
    "    for _, game in games_df.iterrows():\n",
    "        if not is_valid_game(game):\n",
    "            continue\n",
    "        games.append(game.to_dict())\n",
    "\n",
    "    teams_json[team_id] = {\n",
    "        \"profile\": team_profile,\n",
    "        \"games\": games\n",
    "    }\n",
    "\n",
    "    print(f\"Finished team: {team_name}\")\n",
    "    sleep(0.5)\n"
   ]
  },
  {
   "cell_type": "code",
   "execution_count": 6,
   "id": "4ba09e10-4292-4f37-87b3-9206411b2085",
   "metadata": {},
   "outputs": [],
   "source": [
    "with open(\"teams_data.json\", \"w\") as f:\n",
    "    json.dump(teams_json, f, indent=4)\n"
   ]
  },
  {
   "cell_type": "code",
   "execution_count": 7,
   "id": "155e1f6e-7b5c-415c-96e1-eccba699e485",
   "metadata": {},
   "outputs": [
    {
     "name": "stdout",
     "output_type": "stream",
     "text": [
      "5033\n"
     ]
    }
   ],
   "source": [
    "print(len(players_json))"
   ]
  },
  {
   "cell_type": "code",
   "execution_count": null,
   "id": "e936759c-c362-435a-8679-27e4b583eafb",
   "metadata": {},
   "outputs": [],
   "source": [
    "players_json[1642264]"
   ]
  },
  {
   "cell_type": "code",
   "execution_count": 9,
   "id": "40ea69e4-8711-4ba8-86ff-77c9342342b8",
   "metadata": {},
   "outputs": [],
   "source": [
    "with open(\"players_data.json\", \"w\") as f:\n",
    "    json.dump(players_json, f, indent=4)"
   ]
  },
  {
   "cell_type": "code",
   "execution_count": 10,
   "id": "13b9da61-fbb1-4dd7-993d-f71fd4a5e464",
   "metadata": {},
   "outputs": [
    {
     "name": "stdout",
     "output_type": "stream",
     "text": [
      "<class 'int'>\n"
     ]
    }
   ],
   "source": [
    "print(type(all_players[0]['id']))"
   ]
  },
  {
   "cell_type": "code",
   "execution_count": null,
   "id": "d1be033f-ebf6-462a-afed-6bc81fb3a700",
   "metadata": {},
   "outputs": [],
   "source": []
  }
 ],
 "metadata": {
  "kernelspec": {
   "display_name": "Python [conda env:av] *",
   "language": "python",
   "name": "conda-env-av-py"
  },
  "language_info": {
   "codemirror_mode": {
    "name": "ipython",
    "version": 3
   },
   "file_extension": ".py",
   "mimetype": "text/x-python",
   "name": "python",
   "nbconvert_exporter": "python",
   "pygments_lexer": "ipython3",
   "version": "3.12.5"
  }
 },
 "nbformat": 4,
 "nbformat_minor": 5
}
