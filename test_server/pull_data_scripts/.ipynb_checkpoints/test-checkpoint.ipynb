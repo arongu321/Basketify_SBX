{
 "cells": [
  {
   "cell_type": "code",
   "execution_count": null,
   "metadata": {
    "vscode": {
     "languageId": "plaintext"
    }
   },
   "outputs": [],
   "source": [
    "from nba_api.stats.endpoints import leaguegamefinder\n",
    "from nba_api.stats.static import players, teams\n",
    "from pymongo import MongoClient\n",
    "import requests\n",
    "from datetime import datetime\n",
    "from time import sleep\n",
    "import pandas as pd\n",
    "\n",
    "\n",
    "def get_seasons():\n",
    "    \"\"\"\n",
    "    Fetch all seasons from the NBA API and return them as a list.\n",
    "    \"\"\"\n",
    "    all_teams = teams.get_teams()\n",
    "    \n",
    "    for team in all_teams:\n",
    "        team_name = team['full_name']\n",
    "        \n",
    "        # Example: Get games for the team (You can specify season and filters here)\n",
    "        try:\n",
    "            game_finder = leaguegamefinder.LeagueGameFinder(team_id_nullable=team['id'], timeout=3, date_from_nullable = \"09/30/2009\")\n",
    "        except:\n",
    "            print(\"Skip: \" + team_name)\n",
    "            continue\n",
    "        games = game_finder.get_data_frames()[0]\n",
    "        print(games)\n",
    "    \n",
    " "
   ]
  }
 ],
 "metadata": {
  "language_info": {
   "name": "python"
  }
 },
 "nbformat": 4,
 "nbformat_minor": 2
}
